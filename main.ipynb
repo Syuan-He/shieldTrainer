{
 "cells": [
  {
   "cell_type": "code",
   "execution_count": 1,
   "metadata": {},
   "outputs": [
    {
     "name": "stderr",
     "output_type": "stream",
     "text": [
      "c:\\Users\\henry\\.conda\\envs\\torch-env\\Lib\\site-packages\\tqdm\\auto.py:21: TqdmWarning: IProgress not found. Please update jupyter and ipywidgets. See https://ipywidgets.readthedocs.io/en/stable/user_install.html\n",
      "  from .autonotebook import tqdm as notebook_tqdm\n"
     ]
    }
   ],
   "source": [
    "from MyTrainer import MyTrainer"
   ]
  },
  {
   "cell_type": "code",
   "execution_count": 2,
   "metadata": {},
   "outputs": [
    {
     "name": "stderr",
     "output_type": "stream",
     "text": [
      "c:\\Users\\henry\\.conda\\envs\\torch-env\\Lib\\site-packages\\transformers\\tokenization_utils_base.py:1601: FutureWarning: `clean_up_tokenization_spaces` was not set. It will be set to `True` by default. This behavior will be depracted in transformers v4.45, and will be then set to `False` by default. For more details check this issue: https://github.com/huggingface/transformers/issues/31884\n",
      "  warnings.warn(\n"
     ]
    }
   ],
   "source": [
    "trainer = MyTrainer(4)"
   ]
  },
  {
   "cell_type": "code",
   "execution_count": 3,
   "metadata": {},
   "outputs": [],
   "source": [
    "trainer.load('weights/myModel-epoch2.pth')"
   ]
  },
  {
   "cell_type": "code",
   "execution_count": 4,
   "metadata": {},
   "outputs": [
    {
     "name": "stdout",
     "output_type": "stream",
     "text": [
      "26392 6598\n"
     ]
    }
   ],
   "source": [
    "trainer.set_dataset('data/HatePolitics_dataset1_2B.csv')"
   ]
  },
  {
   "cell_type": "code",
   "execution_count": 5,
   "metadata": {},
   "outputs": [
    {
     "name": "stdout",
     "output_type": "stream",
     "text": [
      "Epoch 1/1 - Batch 100/3299 - Loss: 0.3779725432395935\n",
      "Epoch 1/1 - Batch 200/3299 - Loss: 0.37508952617645264\n",
      "Epoch 1/1 - Batch 300/3299 - Loss: 0.35142189264297485\n",
      "Epoch 1/1 - Batch 400/3299 - Loss: 0.3240206241607666\n",
      "Epoch 1/1 - Batch 500/3299 - Loss: 0.3664708733558655\n",
      "Epoch 1/1 - Batch 600/3299 - Loss: 0.3752002716064453\n",
      "Epoch 1/1 - Batch 700/3299 - Loss: 0.33739423751831055\n",
      "Epoch 1/1 - Batch 800/3299 - Loss: 0.3430759310722351\n",
      "Epoch 1/1 - Batch 900/3299 - Loss: 0.37098029255867004\n",
      "Epoch 1/1 - Batch 1000/3299 - Loss: 0.33237192034721375\n",
      "Epoch 1/1 - Batch 1100/3299 - Loss: 0.3209323287010193\n",
      "Epoch 1/1 - Batch 1200/3299 - Loss: 0.3332759141921997\n",
      "Epoch 1/1 - Batch 1300/3299 - Loss: 0.3768378496170044\n",
      "Epoch 1/1 - Batch 1400/3299 - Loss: 0.34729427099227905\n",
      "Epoch 1/1 - Batch 1500/3299 - Loss: 0.3306536376476288\n",
      "Epoch 1/1 - Batch 1600/3299 - Loss: 0.3841058015823364\n",
      "Epoch 1/1 - Batch 1700/3299 - Loss: 0.34055936336517334\n",
      "Epoch 1/1 - Batch 1800/3299 - Loss: 0.31949201226234436\n",
      "Epoch 1/1 - Batch 1900/3299 - Loss: 0.33418330550193787\n",
      "Epoch 1/1 - Batch 2000/3299 - Loss: 0.3866173028945923\n",
      "Epoch 1/1 - Batch 2100/3299 - Loss: 0.33246511220932007\n",
      "Epoch 1/1 - Batch 2200/3299 - Loss: 0.3708329200744629\n",
      "Epoch 1/1 - Batch 2300/3299 - Loss: 0.3306179940700531\n",
      "Epoch 1/1 - Batch 2400/3299 - Loss: 0.37281227111816406\n",
      "Epoch 1/1 - Batch 2500/3299 - Loss: 0.3276762366294861\n",
      "Epoch 1/1 - Batch 2600/3299 - Loss: 0.31666338443756104\n",
      "Epoch 1/1 - Batch 2700/3299 - Loss: 0.36947518587112427\n",
      "Epoch 1/1 - Batch 2800/3299 - Loss: 0.3818058669567108\n",
      "Epoch 1/1 - Batch 2900/3299 - Loss: 0.3426138758659363\n",
      "Epoch 1/1 - Batch 3000/3299 - Loss: 0.3633185029029846\n",
      "Epoch 1/1 - Batch 3100/3299 - Loss: 0.378265917301178\n",
      "Epoch 1/1 - Batch 3200/3299 - Loss: 0.32856306433677673\n",
      "Done\n"
     ]
    }
   ],
   "source": [
    "trainer.train()"
   ]
  },
  {
   "cell_type": "code",
   "execution_count": 6,
   "metadata": {},
   "outputs": [
    {
     "name": "stdout",
     "output_type": "stream",
     "text": [
      "Confusion Matrix:\n",
      "[[6522, 45], [9, 22]]\n",
      "[[6543, 54], [0, 1]]\n",
      "[[6325, 205], [21, 47]]\n",
      "[[6539, 39], [6, 14]]\n",
      "Microaverage:\n",
      "[[25929, 343], [36, 84]]\n",
      "Score:\n",
      "{'Recall': 0.3283582089552239, 'Precision': 0.7096774193548387, 'F1': 0.4489795918367347, 'Acc': 0.9918157017277963}\n",
      "{'Recall': 0.01818181818181818, 'Precision': 1.0, 'F1': 0.03571428571428572, 'Acc': 0.9918157017277963}\n",
      "{'Recall': 0.1865079365079365, 'Precision': 0.6911764705882353, 'F1': 0.29375, 'Acc': 0.9657471961200363}\n",
      "{'Recall': 0.2641509433962264, 'Precision': 0.7, 'F1': 0.3835616438356165, 'Acc': 0.9931797514398303}\n",
      "macroaverage: {'Recall': 0.7752134724857684, 'Precision': 0.19929972676030122, 'F1': 0.29050138034665923, 'Acc': 0.9856395877538648}\n"
     ]
    }
   ],
   "source": [
    "trainer.eval()"
   ]
  },
  {
   "cell_type": "markdown",
   "metadata": {},
   "source": [
    "9B:\n",
    "Confusion Matrix:\n",
    "[[6613, 10], [0, 0]]\n",
    "[[6607, 16], [0, 0]]\n",
    "[[6589, 34], [0, 0]]\n",
    "[[6618, 5], [0, 0]]\n",
    "Microaverage:\n",
    "[[26427, 65], [0, 0]]\n",
    "Score:\n",
    "{'Recall': 0.0, 'Precision': 0, 'F1': 0, 'Acc': 0.9984901102219538}\n",
    "{'Recall': 0.0, 'Precision': 0, 'F1': 0, 'Acc': 0.9975841763551261}\n",
    "{'Recall': 0.0, 'Precision': 0, 'F1': 0, 'Acc': 0.9948663747546429}\n",
    "{'Recall': 0.0, 'Precision': 0, 'F1': 0, 'Acc': 0.9992450551109769}\n",
    "macroaverage: {'Recall': 0.0, 'Precision': 0.0, 'F1': 0.0, 'Acc': 0.9975464291106749}"
   ]
  },
  {
   "cell_type": "code",
   "execution_count": 7,
   "metadata": {},
   "outputs": [],
   "source": [
    "trainer.save('weights/myModel-epoch3-2.pth')"
   ]
  },
  {
   "cell_type": "code",
   "execution_count": null,
   "metadata": {},
   "outputs": [],
   "source": []
  }
 ],
 "metadata": {
  "kernelspec": {
   "display_name": "torch-env",
   "language": "python",
   "name": "python3"
  },
  "language_info": {
   "codemirror_mode": {
    "name": "ipython",
    "version": 3
   },
   "file_extension": ".py",
   "mimetype": "text/x-python",
   "name": "python",
   "nbconvert_exporter": "python",
   "pygments_lexer": "ipython3",
   "version": "3.12.3"
  }
 },
 "nbformat": 4,
 "nbformat_minor": 2
}
