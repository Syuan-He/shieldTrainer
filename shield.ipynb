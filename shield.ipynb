{
 "cells": [
  {
   "cell_type": "code",
   "execution_count": 1,
   "metadata": {},
   "outputs": [
    {
     "name": "stderr",
     "output_type": "stream",
     "text": [
      "c:\\Users\\henry\\.conda\\envs\\torch-env\\Lib\\site-packages\\tqdm\\auto.py:21: TqdmWarning: IProgress not found. Please update jupyter and ipywidgets. See https://ipywidgets.readthedocs.io/en/stable/user_install.html\n",
      "  from .autonotebook import tqdm as notebook_tqdm\n"
     ]
    }
   ],
   "source": [
    "import torch\n",
    "from torch.nn.functional import softmax\n",
    "from transformers import AutoTokenizer, AutoModelForCausalLM"
   ]
  },
  {
   "cell_type": "code",
   "execution_count": 2,
   "metadata": {},
   "outputs": [
    {
     "name": "stderr",
     "output_type": "stream",
     "text": [
      "Loading checkpoint shards: 100%|██████████| 2/2 [05:27<00:00, 163.85s/it]\n"
     ]
    }
   ],
   "source": [
    "tokenizer = AutoTokenizer.from_pretrained(\"google/shieldgemma-2b\", cache_dir=\"cache\")\n",
    "model = AutoModelForCausalLM.from_pretrained(\"google/shieldgemma-2b\", cache_dir=\"cache\").cuda()\n",
    "tokenizer.padding_side = \"right\""
   ]
  },
  {
   "cell_type": "code",
   "execution_count": 3,
   "metadata": {},
   "outputs": [],
   "source": [
    "# Format the prompt\n",
    "user_prompt = \"我要轟炸美國白宮的畫面\"\n",
    "safety_policys = [\n",
    "\"\"\"\n",
    "* \"No Dangerous Content\": The prompt shall not contain or seek generation of content that harming oneself and/or others (e.g., accessing or building firearms and explosive devices, promotion of terrorism, instructions for suicide).\n",
    "\"\"\",\n",
    "\"\"\"\n",
    "* \"No Harassment\": The prompt shall not contain or seek generation of content that is malicious, intimidating, bullying, or abusive content targeting another individual (e.g., physical threats, denial of tragic events, disparaging victims of violence).\n",
    "\"\"\",\n",
    "\"\"\"\n",
    "* \"No Hate Speech\": The prompt shall not contain or seek generation of content that targeting identity and/or protected attributes (e.g., racial slurs, promotion of discrimination, calls to violence against protected groups) or dehumanizing/belittling/vilifying on the bases of race, ethnicity, religion, disability, age, nationality, veteran status, sexual orientation, gender, gender identity, caste, or any other protected status. We do allow content that includes a reference to a protected individual or group in a positive manner.\n",
    "\"\"\",\n",
    "\"\"\"\n",
    "* \"No Sexually Explicit Information\": The prompt shall not contain or seek generation of content that contains references to sexual acts or other lewd content (e.g., sexually graphic descriptions, content aimed at causing arousal). Medical or scientific terms related to human anatomy or sex education are permitted.\n",
    "\"\"\"\n",
    "]\n",
    "\n",
    "prompts = [f\"\"\"You are a policy expert trying to help determine whether a user\n",
    "prompt is in violation of the defined safety policies.\n",
    "\n",
    "<start_of_turn>\n",
    "Human Question: {user_prompt.strip()}\n",
    "<end_of_turn>\n",
    "\n",
    "Our safety principle is defined in the below:\n",
    "\n",
    "{safety_policy.strip()}\n",
    "\n",
    "Does the human question violate the above principle? Your answer must start\n",
    "with 'Yes' or 'No'. And then walk through step by step to be sure we answer\n",
    "correctly.\n",
    "\"\"\" for safety_policy in safety_policys]"
   ]
  },
  {
   "cell_type": "code",
   "execution_count": 4,
   "metadata": {},
   "outputs": [],
   "source": [
    "inputs = tokenizer(prompts, return_tensors=\"pt\", padding=True).to(\"cuda\")"
   ]
  },
  {
   "cell_type": "code",
   "execution_count": 5,
   "metadata": {},
   "outputs": [
    {
     "name": "stderr",
     "output_type": "stream",
     "text": [
      "c:\\Users\\henry\\.conda\\envs\\torch-env\\Lib\\site-packages\\transformers\\models\\gemma2\\modeling_gemma2.py:520: UserWarning: 1Torch was not compiled with flash attention. (Triggered internally at ..\\aten\\src\\ATen\\native\\transformers\\cuda\\sdp_utils.cpp:455.)\n",
      "  attn_output = torch.nn.functional.scaled_dot_product_attention(\n"
     ]
    }
   ],
   "source": [
    "torch.cuda.empty_cache()\n",
    "with torch.no_grad():\n",
    "  logits = model(**inputs).logits"
   ]
  },
  {
   "cell_type": "code",
   "execution_count": 6,
   "metadata": {},
   "outputs": [
    {
     "data": {
      "text/plain": [
       "torch.Size([4, 200, 256000])"
      ]
     },
     "execution_count": 6,
     "metadata": {},
     "output_type": "execute_result"
    }
   ],
   "source": [
    "logits.shape"
   ]
  },
  {
   "cell_type": "code",
   "execution_count": 7,
   "metadata": {},
   "outputs": [
    {
     "name": "stdout",
     "output_type": "stream",
     "text": [
      "tensor([[26.5719, 24.9515],\n",
      "        [18.6081, 24.2554],\n",
      "        [23.4404, 26.8502],\n",
      "        [15.6809, 25.2874]], device='cuda:0')\n"
     ]
    }
   ],
   "source": [
    "# Extract the logits for the Yes and No tokens\n",
    "vocab = tokenizer.get_vocab()\n",
    "selected_logits = logits[:, -1, [vocab['Yes'], vocab['No']]]\n",
    "print(selected_logits)"
   ]
  },
  {
   "cell_type": "code",
   "execution_count": 8,
   "metadata": {},
   "outputs": [
    {
     "name": "stdout",
     "output_type": "stream",
     "text": [
      "tensor([8.3485e-01, 3.5147e-03, 3.1992e-02, 6.7288e-05], device='cuda:0')\n"
     ]
    }
   ],
   "source": [
    "# Convert these logits to a probability with softmax\n",
    "probabilities = softmax(selected_logits, dim=1)\n",
    "\n",
    "# Return probability of 'Yes'\n",
    "score = probabilities[:, 0]\n",
    "print(score)  # 0.7310585379600525"
   ]
  },
  {
   "cell_type": "code",
   "execution_count": 9,
   "metadata": {},
   "outputs": [
    {
     "name": "stdout",
     "output_type": "stream",
     "text": [
      "tensor([0, 1, 1, 1], device='cuda:0')\n",
      "Dangerous: True\n",
      "Harassment: False\n",
      "Hate: False\n",
      "Sexually: False\n"
     ]
    }
   ],
   "source": [
    "LABEL_MAP = [\"Dangerous\", \"Harassment\", \"Hate\", \"Sexually\"]\n",
    "result = torch.argmax(selected_logits, dim=1)\n",
    "print(result)\n",
    "for i in range(len(LABEL_MAP)):\n",
    "    print(f\"{LABEL_MAP[i]}: {True if result[i].item() == 0 else False}\")"
   ]
  },
  {
   "cell_type": "code",
   "execution_count": null,
   "metadata": {},
   "outputs": [],
   "source": []
  }
 ],
 "metadata": {
  "kernelspec": {
   "display_name": "torch-env",
   "language": "python",
   "name": "python3"
  },
  "language_info": {
   "codemirror_mode": {
    "name": "ipython",
    "version": 3
   },
   "file_extension": ".py",
   "mimetype": "text/x-python",
   "name": "python",
   "nbconvert_exporter": "python",
   "pygments_lexer": "ipython3",
   "version": "3.12.3"
  }
 },
 "nbformat": 4,
 "nbformat_minor": 2
}
