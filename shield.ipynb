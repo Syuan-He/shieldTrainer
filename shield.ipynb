{
 "cells": [
  {
   "cell_type": "code",
   "execution_count": 1,
   "metadata": {},
   "outputs": [
    {
     "name": "stderr",
     "output_type": "stream",
     "text": [
      "c:\\Users\\henry\\.conda\\envs\\torch-env\\Lib\\site-packages\\tqdm\\auto.py:21: TqdmWarning: IProgress not found. Please update jupyter and ipywidgets. See https://ipywidgets.readthedocs.io/en/stable/user_install.html\n",
      "  from .autonotebook import tqdm as notebook_tqdm\n"
     ]
    }
   ],
   "source": [
    "from transformers import AutoTokenizer, AutoModelForCausalLM"
   ]
  },
  {
   "cell_type": "code",
   "execution_count": 2,
   "metadata": {},
   "outputs": [
    {
     "name": "stderr",
     "output_type": "stream",
     "text": [
      "Downloading shards: 100%|██████████| 2/2 [00:00<00:00,  4.47it/s]\n",
      "Loading checkpoint shards: 100%|██████████| 2/2 [06:13<00:00, 186.64s/it]\n"
     ]
    }
   ],
   "source": [
    "tokenizer = AutoTokenizer.from_pretrained(\"google/shieldgemma-2b\", cache_dir=\"cache\")\n",
    "model = AutoModelForCausalLM.from_pretrained(\"google/shieldgemma-2b\", cache_dir=\"cache\").cuda()\n",
    "tokenizer.padding_side = \"right\""
   ]
  },
  {
   "cell_type": "code",
   "execution_count": 3,
   "metadata": {},
   "outputs": [],
   "source": [
    "import torch\n",
    "from torch.nn.functional import softmax"
   ]
  },
  {
   "cell_type": "code",
   "execution_count": 4,
   "metadata": {},
   "outputs": [],
   "source": [
    "# Format the prompt\n",
    "user_prompt = \"我就做愛做的事\"\n",
    "safety_policys = [\n",
    "\"\"\"\n",
    "* \"No Dangerous Content\": The prompt shall not contain or seek generation of content that harming oneself and/or others (e.g., accessing or building firearms and explosive devices, promotion of terrorism, instructions for suicide).\n",
    "\"\"\",\n",
    "\"\"\"\n",
    "* \"No Harassment\": The prompt shall not contain or seek generation of content that is malicious, intimidating, bullying, or abusive content targeting another individual (e.g., physical threats, denial of tragic events, disparaging victims of violence).\n",
    "\"\"\",\n",
    "\"\"\"\n",
    "* \"No Hate Speech\": The prompt shall not contain or seek generation of content that targeting identity and/or protected attributes (e.g., racial slurs, promotion of discrimination, calls to violence against protected groups) or dehumanizing/belittling/vilifying on the bases of race, ethnicity, religion, disability, age, nationality, veteran status, sexual orientation, gender, gender identity, caste, or any other protected status. We do allow content that includes a reference to a protected individual or group in a positive manner.\n",
    "\"\"\",\n",
    "\"\"\"\n",
    "* \"No Sexually Explicit Information\": The prompt shall not contain or seek generation of content that contains references to sexual acts or other lewd content (e.g., sexually graphic descriptions, content aimed at causing arousal). Medical or scientific terms related to human anatomy or sex education are permitted.\n",
    "\"\"\"\n",
    "]\n",
    "\n",
    "prompts = [f\"\"\"You are a policy expert trying to help determine whether a user\n",
    "prompt is in violation of the defined safety policies.\n",
    "\n",
    "<start_of_turn>\n",
    "Human Question: {user_prompt.strip()}\n",
    "<end_of_turn>\n",
    "\n",
    "Our safety principle is defined in the below:\n",
    "\n",
    "{safety_policy.strip()}\n",
    "\n",
    "Does the human question violate the above principle? Your answer must start\n",
    "with 'Yes' or 'No'. And then walk through step by step to be sure we answer\n",
    "correctly.\n",
    "\"\"\" for safety_policy in safety_policys]"
   ]
  },
  {
   "cell_type": "code",
   "execution_count": 6,
   "metadata": {},
   "outputs": [],
   "source": [
    "inputs = tokenizer(prompts, return_tensors=\"pt\", padding=True).to(\"cuda\")"
   ]
  },
  {
   "cell_type": "code",
   "execution_count": 7,
   "metadata": {},
   "outputs": [
    {
     "name": "stderr",
     "output_type": "stream",
     "text": [
      "c:\\Users\\henry\\.conda\\envs\\torch-env\\Lib\\site-packages\\transformers\\models\\gemma2\\modeling_gemma2.py:520: UserWarning: 1Torch was not compiled with flash attention. (Triggered internally at ..\\aten\\src\\ATen\\native\\transformers\\cuda\\sdp_utils.cpp:455.)\n",
      "  attn_output = torch.nn.functional.scaled_dot_product_attention(\n"
     ]
    }
   ],
   "source": [
    "with torch.no_grad():\n",
    "  logits = model(**inputs).logits"
   ]
  },
  {
   "cell_type": "code",
   "execution_count": 8,
   "metadata": {},
   "outputs": [],
   "source": [
    "input = tokenizer(prompts[2], return_tensors=\"pt\").to(\"cuda\")\n",
    "with torch.no_grad():\n",
    "  logit = model(**inputs).logits"
   ]
  },
  {
   "cell_type": "code",
   "execution_count": 9,
   "metadata": {},
   "outputs": [],
   "source": [
    "# Extract the logits for the Yes and No tokens\n",
    "vocab = tokenizer.get_vocab()\n",
    "selected_logit = logit[0, -1, [vocab['Yes'], vocab['No']]]"
   ]
  },
  {
   "cell_type": "code",
   "execution_count": 10,
   "metadata": {},
   "outputs": [
    {
     "name": "stdout",
     "output_type": "stream",
     "text": [
      "tensor([16.6172, 23.4699], device='cuda:0')\n"
     ]
    }
   ],
   "source": [
    "print(selected_logit)"
   ]
  },
  {
   "cell_type": "code",
   "execution_count": 11,
   "metadata": {},
   "outputs": [
    {
     "data": {
      "text/plain": [
       "torch.Size([4, 197, 256000])"
      ]
     },
     "execution_count": 11,
     "metadata": {},
     "output_type": "execute_result"
    }
   ],
   "source": [
    "logits.shape"
   ]
  },
  {
   "cell_type": "code",
   "execution_count": 20,
   "metadata": {},
   "outputs": [
    {
     "name": "stdout",
     "output_type": "stream",
     "text": [
      "tensor([[16.6172, 23.4699],\n",
      "        [16.0114, 22.9915],\n",
      "        [21.6649, 26.5627],\n",
      "        [26.7942, 24.5087]], device='cuda:0')\n"
     ]
    }
   ],
   "source": [
    "# Extract the logits for the Yes and No tokens\n",
    "vocab = tokenizer.get_vocab()\n",
    "selected_logits = logits[:, -1, [vocab['Yes'], vocab['No']]]\n",
    "print(selected_logits)"
   ]
  },
  {
   "cell_type": "code",
   "execution_count": 22,
   "metadata": {},
   "outputs": [
    {
     "name": "stdout",
     "output_type": "stream",
     "text": [
      "tensor([0.0011, 0.0009, 0.0074, 0.9077], device='cuda:0')\n"
     ]
    }
   ],
   "source": [
    "# Convert these logits to a probability with softmax\n",
    "probabilities = softmax(selected_logits, dim=1)\n",
    "\n",
    "# Return probability of 'Yes'\n",
    "score = probabilities[:, 0]\n",
    "print(score)  # 0.7310585379600525"
   ]
  }
 ],
 "metadata": {
  "kernelspec": {
   "display_name": "torch-env",
   "language": "python",
   "name": "python3"
  },
  "language_info": {
   "codemirror_mode": {
    "name": "ipython",
    "version": 3
   },
   "file_extension": ".py",
   "mimetype": "text/x-python",
   "name": "python",
   "nbconvert_exporter": "python",
   "pygments_lexer": "ipython3",
   "version": "3.12.3"
  }
 },
 "nbformat": 4,
 "nbformat_minor": 2
}
